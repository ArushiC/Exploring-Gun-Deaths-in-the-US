{
 "cells": [
  {
   "cell_type": "code",
   "execution_count": 8,
   "metadata": {
    "collapsed": false
   },
   "outputs": [
    {
     "name": "stdout",
     "output_type": "stream",
     "text": [
      "{'2013': 33636, '2014': 33599, '2012': 33563}\n"
     ]
    }
   ],
   "source": [
    "import csv\n",
    "import datetime\n",
    "\n",
    "f=open(\"guns.csv\")\n",
    "data=list(csv.reader(f))\n",
    "headers=data[0]\n",
    "data=data[1:]\n",
    "#print(headers)\n",
    "#print(data[:5])\n",
    "\n",
    "year_counts={}\n",
    "\n",
    "for row in data:\n",
    "    years=row[1]\n",
    "    if years in year_counts.keys():\n",
    "        year_counts[years]=year_counts[years]+1\n",
    "    else:\n",
    "        year_counts[years]=1\n",
    "        \n",
    "print(year_counts)"
   ]
  },
  {
   "cell_type": "code",
   "execution_count": 12,
   "metadata": {
    "collapsed": false
   },
   "outputs": [
    {
     "name": "stdout",
     "output_type": "stream",
     "text": [
      "{datetime.datetime(2014, 7, 1, 0, 0): 2884, datetime.datetime(2013, 3, 1, 0, 0): 2862, datetime.datetime(2012, 4, 1, 0, 0): 2795, datetime.datetime(2012, 10, 1, 0, 0): 2733, datetime.datetime(2012, 11, 1, 0, 0): 2729, datetime.datetime(2014, 11, 1, 0, 0): 2756, datetime.datetime(2012, 8, 1, 0, 0): 2954, datetime.datetime(2013, 5, 1, 0, 0): 2806, datetime.datetime(2014, 8, 1, 0, 0): 2970, datetime.datetime(2013, 1, 1, 0, 0): 2864, datetime.datetime(2013, 6, 1, 0, 0): 2920, datetime.datetime(2014, 6, 1, 0, 0): 2931, datetime.datetime(2012, 6, 1, 0, 0): 2826, datetime.datetime(2012, 2, 1, 0, 0): 2357, datetime.datetime(2012, 3, 1, 0, 0): 2743, datetime.datetime(2014, 3, 1, 0, 0): 2684, datetime.datetime(2012, 9, 1, 0, 0): 2852, datetime.datetime(2013, 7, 1, 0, 0): 3079, datetime.datetime(2014, 12, 1, 0, 0): 2857, datetime.datetime(2014, 4, 1, 0, 0): 2862, datetime.datetime(2014, 9, 1, 0, 0): 2914, datetime.datetime(2013, 8, 1, 0, 0): 2859, datetime.datetime(2014, 5, 1, 0, 0): 2864, datetime.datetime(2012, 5, 1, 0, 0): 2999, datetime.datetime(2013, 4, 1, 0, 0): 2798, datetime.datetime(2014, 10, 1, 0, 0): 2865, datetime.datetime(2013, 9, 1, 0, 0): 2742, datetime.datetime(2012, 12, 1, 0, 0): 2791, datetime.datetime(2013, 12, 1, 0, 0): 2765, datetime.datetime(2012, 7, 1, 0, 0): 3026, datetime.datetime(2013, 11, 1, 0, 0): 2758, datetime.datetime(2013, 10, 1, 0, 0): 2808, datetime.datetime(2013, 2, 1, 0, 0): 2375, datetime.datetime(2014, 2, 1, 0, 0): 2361, datetime.datetime(2012, 1, 1, 0, 0): 2758, datetime.datetime(2014, 1, 1, 0, 0): 2651}\n"
     ]
    }
   ],
   "source": [
    "dates = [datetime.datetime(year=int(row[1]), month=int(row[2]), day=1) for row in data]\n",
    "#print(dates[:5])\n",
    "date_counts={}\n",
    "\n",
    "for date in dates:\n",
    "    if date in date_counts:\n",
    "        date_counts[date]+=1 \n",
    "    else:\n",
    "        date_counts[date]=1\n",
    "        \n",
    "print(date_counts)"
   ]
  },
  {
   "cell_type": "markdown",
   "metadata": {},
   "source": [
    "sex_counts={}\n",
    "for row in data:\n",
    "    sex=row[5]\n",
    "    if sex in sex_counts:\n",
    "        sex_counts[sex]+=1 \n",
    "    else:\n",
    "        sex_counts[sex]=1\n",
    "        \n",
    "print(sex_counts)\n",
    "\n",
    "race_counts={}\n",
    "for row in data:\n",
    "    race=row[7]\n",
    "    if race in race_counts:\n",
    "        race_counts[race]+=1 \n",
    "    else:\n",
    "        race_counts[race]=1\n",
    "        \n",
    "print(race_counts)\n",
    "\n",
    "# Python"
   ]
  },
  {
   "cell_type": "code",
   "execution_count": 13,
   "metadata": {
    "collapsed": false
   },
   "outputs": [
    {
     "name": "stdout",
     "output_type": "stream",
     "text": [
      "{'F': 14449, 'M': 86349}\n",
      "{'White': 66237, 'Black': 23296, 'Hispanic': 9022, 'Asian/Pacific Islander': 1326, 'Native American/Native Alaskan': 917}\n"
     ]
    }
   ],
   "source": [
    "sex_counts={} \n",
    "for row in data: \n",
    "    sex=row[5] \n",
    "    if sex in sex_counts: \n",
    "        sex_counts[sex]+=1 \n",
    "    else: \n",
    "        sex_counts[sex]=1\n",
    "\n",
    "print(sex_counts)\n",
    "\n",
    "race_counts={} \n",
    "for row in data: \n",
    "    race=row[7] \n",
    "    if race in race_counts: \n",
    "        race_counts[race]+=1 \n",
    "    else: \n",
    "        race_counts[race]=1\n",
    "\n",
    "print(race_counts)"
   ]
  },
  {
   "cell_type": "code",
   "execution_count": 14,
   "metadata": {
    "collapsed": false
   },
   "outputs": [
    {
     "name": "stdout",
     "output_type": "stream",
     "text": [
      "[['Id', 'Year', 'Id', 'Sex', 'Id', 'Hispanic Origin', 'Id', 'Id2', 'Geography', 'Total', 'Race Alone - White', 'Race Alone - Hispanic', 'Race Alone - Black or African American', 'Race Alone - American Indian and Alaska Native', 'Race Alone - Asian', 'Race Alone - Native Hawaiian and Other Pacific Islander', 'Two or More Races'], ['cen42010', 'April 1, 2010 Census', 'totsex', 'Both Sexes', 'tothisp', 'Total', '0100000US', '', 'United States', '308745538', '197318956', '44618105', '40250635', '3739506', '15159516', '674625', '6984195']]\n"
     ]
    }
   ],
   "source": [
    "import csv\n",
    "\n",
    "f=open(\"census.csv\")\n",
    "census = list(csv.reader(f))\n",
    "print(census)"
   ]
  },
  {
   "cell_type": "code",
   "execution_count": 27,
   "metadata": {
    "collapsed": false
   },
   "outputs": [
    {
     "name": "stdout",
     "output_type": "stream",
     "text": [
      "{'Asian/Pacific Islander': 8.374309664161762, 'Black': 57.8773477735196, 'Hispanic': 20.220491210910907, 'White': 33.56849303419181}\n"
     ]
    }
   ],
   "source": [
    "manually={\"White\":197318956,\n",
    "          \"Hispanic\":44618105,\n",
    "          \"Black\":40250635,\n",
    "          \"Asian/Pacific Islander\":sum([15159516,674625]),\n",
    "          \"Native American/Native Alaska\":3739506        \n",
    "}\n",
    "\n",
    "race_per_hundredk={}\n",
    "\n",
    "for k,v in race_counts.items():\n",
    "    if k in manually.keys():\n",
    "        race_per_hundredk[k]=v/manually[k]*100000\n",
    "print(race_per_hundredk)\n",
    "    "
   ]
  },
  {
   "cell_type": "code",
   "execution_count": 28,
   "metadata": {
    "collapsed": false
   },
   "outputs": [
    {
     "name": "stdout",
     "output_type": "stream",
     "text": [
      "{'Asian/Pacific Islander': 559, 'Black': 19510, 'Hispanic': 5634, 'White': 9147, 'Native American/Native Alaskan': 326}\n"
     ]
    }
   ],
   "source": [
    "homicide_race_counts={} \n",
    "\n",
    "for row in data: \n",
    "    race=row[7]\n",
    "    intent=row[3]\n",
    "    if intent ==\"Homicide\":\n",
    "        if race in homicide_race_counts: \n",
    "            homicide_race_counts[race]+=1 \n",
    "        else: \n",
    "            homicide_race_counts[race]=1\n",
    "\n",
    "print(homicide_race_counts)"
   ]
  },
  {
   "cell_type": "code",
   "execution_count": 29,
   "metadata": {
    "collapsed": false
   },
   "outputs": [
    {
     "name": "stdout",
     "output_type": "stream",
     "text": [
      "{'White': 4.6356417981453335, 'Black': 48.471284987180944, 'Hispanic': 12.627161104219914, 'Asian/Pacific Islander': 3.530346230970155}\n"
     ]
    }
   ],
   "source": [
    "manually={\"White\":197318956,\n",
    "          \"Hispanic\":44618105,\n",
    "          \"Black\":40250635,\n",
    "          \"Asian/Pacific Islander\":sum([15159516,674625]),\n",
    "          \"Native American/Native Alaska\":3739506        \n",
    "}\n",
    "\n",
    "race_per_hundredk_homicide={}\n",
    "\n",
    "for k,v in homicide_race_counts.items():\n",
    "    if k in manually.keys():\n",
    "        race_per_hundredk_homicide[k]=v/manually[k]*100000\n",
    "print(race_per_hundredk_homicide)\n",
    "    "
   ]
  },
  {
   "cell_type": "code",
   "execution_count": null,
   "metadata": {
    "collapsed": true
   },
   "outputs": [],
   "source": []
  }
 ],
 "metadata": {
  "kernelspec": {
   "display_name": "Python 3",
   "language": "python",
   "name": "python3"
  },
  "language_info": {
   "codemirror_mode": {
    "name": "ipython",
    "version": 3
   },
   "file_extension": ".py",
   "mimetype": "text/x-python",
   "name": "python",
   "nbconvert_exporter": "python",
   "pygments_lexer": "ipython3",
   "version": "3.4.3"
  }
 },
 "nbformat": 4,
 "nbformat_minor": 0
}
